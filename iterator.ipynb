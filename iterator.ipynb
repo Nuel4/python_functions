{
 "cells": [
  {
   "cell_type": "code",
   "execution_count": 5,
   "metadata": {},
   "outputs": [
    {
     "name": "stdout",
     "output_type": "stream",
     "text": [
      "10\n",
      "30\n",
      "25\n"
     ]
    }
   ],
   "source": [
    "num =[10,30,25,35,15,20,90]\n",
    "#for i in num: for loop\n",
    "# print(i) print num indexwise\n",
    "\n",
    "n =iter(num) # built in_function called iter ,pass list into iter\n",
    "print(n.__next__()) # will give the first value\n",
    "print(n.__next__()) # gives second index value\n",
    "print(next(n))\n",
    "\n",
    "\n"
   ]
  },
  {
   "cell_type": "code",
   "execution_count": 6,
   "metadata": {},
   "outputs": [
    {
     "name": "stdout",
     "output_type": "stream",
     "text": [
      "1\n",
      "2\n",
      "3\n",
      "4\n",
      "5\n",
      "6\n",
      "7\n",
      "8\n",
      "9\n",
      "10\n"
     ]
    }
   ],
   "source": [
    "class topten:\n",
    "    \n",
    "    def __init__(self):\n",
    "        self.number =1 # start from 1\n",
    "        \n",
    "    def __iter__(self):\n",
    "        return self # returns itself \n",
    "    \n",
    "    def __next__(self):\n",
    "        if self.number<=10: # should be <= 10\n",
    "            val = self.number\n",
    "            self.number += 1 # increament number by 1\n",
    "            return val\n",
    "    \n",
    "        else:\n",
    "            raise StopIteration # to stop iteration\n",
    "        \n",
    "        \n",
    "value = topten()\n",
    "print(next(value))\n",
    "for i in value: #using for loop to print the values of value\n",
    "    print(i)"
   ]
  },
  {
   "cell_type": "code",
   "execution_count": 11,
   "metadata": {},
   "outputs": [
    {
     "name": "stdout",
     "output_type": "stream",
     "text": [
      "<__main__.topten object at 0x0000023343B84470>\n"
     ]
    }
   ],
   "source": [
    "class topten:\n",
    "    \n",
    "    def __init__(self):\n",
    "        self.number =1 # start from 1\n",
    "        \n",
    "    def __iter__(self):\n",
    "        return self # returns itself \n",
    "    \n",
    "h =topten()    \n",
    "print(h)"
   ]
  },
  {
   "cell_type": "code",
   "execution_count": 8,
   "metadata": {},
   "outputs": [],
   "source": [
    "h =topten()"
   ]
  },
  {
   "cell_type": "code",
   "execution_count": 9,
   "metadata": {},
   "outputs": [
    {
     "data": {
      "text/plain": [
       "<__main__.topten at 0x23343b60ba8>"
      ]
     },
     "execution_count": 9,
     "metadata": {},
     "output_type": "execute_result"
    }
   ],
   "source": [
    "h"
   ]
  },
  {
   "cell_type": "code",
   "execution_count": null,
   "metadata": {},
   "outputs": [],
   "source": []
  }
 ],
 "metadata": {
  "kernelspec": {
   "display_name": "Python 3",
   "language": "python",
   "name": "python3"
  },
  "language_info": {
   "codemirror_mode": {
    "name": "ipython",
    "version": 3
   },
   "file_extension": ".py",
   "mimetype": "text/x-python",
   "name": "python",
   "nbconvert_exporter": "python",
   "pygments_lexer": "ipython3",
   "version": "3.7.3"
  }
 },
 "nbformat": 4,
 "nbformat_minor": 2
}
