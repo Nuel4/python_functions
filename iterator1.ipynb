{
 "cells": [
  {
   "cell_type": "code",
   "execution_count": 8,
   "metadata": {},
   "outputs": [
    {
     "name": "stdout",
     "output_type": "stream",
     "text": [
      "10\n",
      "30\n"
     ]
    }
   ],
   "source": [
    "num =[10,30,25,35,15,20,90]\n",
    "#for i in num: for loop\n",
    "# print(i) print num indexwise\n",
    "n =iter(num) # built in_function called iter ,pass list into iter\n",
    "print(n.__next__()) # will give the first value\n",
    "print(n.__next__()) # gives second index value\n"
   ]
  },
  {
   "cell_type": "code",
   "execution_count": 9,
   "metadata": {},
   "outputs": [
    {
     "name": "stdout",
     "output_type": "stream",
     "text": [
      "25\n"
     ]
    }
   ],
   "source": [
    "print(n.__next__())"
   ]
  },
  {
   "cell_type": "code",
   "execution_count": 10,
   "metadata": {},
   "outputs": [
    {
     "name": "stdout",
     "output_type": "stream",
     "text": [
      "35\n"
     ]
    }
   ],
   "source": [
    "print(next(n))"
   ]
  },
  {
   "cell_type": "code",
   "execution_count": 11,
   "metadata": {},
   "outputs": [
    {
     "name": "stdout",
     "output_type": "stream",
     "text": [
      "15\n",
      "20\n"
     ]
    }
   ],
   "source": [
    "print(n.__next__()) # gives second index value\n",
    "print(next(n))\n"
   ]
  },
  {
   "cell_type": "code",
   "execution_count": 21,
   "metadata": {},
   "outputs": [
    {
     "ename": "SyntaxError",
     "evalue": "unexpected EOF while parsing (<ipython-input-21-df40003f5dc4>, line 22)",
     "output_type": "error",
     "traceback": [
      "\u001b[1;36m  File \u001b[1;32m\"<ipython-input-21-df40003f5dc4>\"\u001b[1;36m, line \u001b[1;32m22\u001b[0m\n\u001b[1;33m    for i in value: #using for loop to print the values of valu\u001b[0m\n\u001b[1;37m                                                               ^\u001b[0m\n\u001b[1;31mSyntaxError\u001b[0m\u001b[1;31m:\u001b[0m unexpected EOF while parsing\n"
     ]
    }
   ],
   "source": [
    "class topten:\n",
    "    \n",
    "    def __init__(self):\n",
    "        self.number =1       # start from 1\n",
    "        \n",
    "    def __iter__(self):\n",
    "        \n",
    "        return self # returns itself\n",
    "    \n",
    "    def __next__(self):\n",
    "        \n",
    "        \n",
    "        if self.number<=10: # should be <= 10\n",
    "            \n",
    "            val = self.number\n",
    "            self.number += 1 # increament number by 1\n",
    "            return val\n",
    "        else:\n",
    "            raise StopIteration # to stop iteration\n",
    "            value = topten()\n",
    "            print(next(value))\n",
    "    for i in value: #using for loop to print the values of valu"
   ]
  },
  {
   "cell_type": "code",
   "execution_count": null,
   "metadata": {},
   "outputs": [],
   "source": []
  }
 ],
 "metadata": {
  "kernelspec": {
   "display_name": "Python 3",
   "language": "python",
   "name": "python3"
  },
  "language_info": {
   "codemirror_mode": {
    "name": "ipython",
    "version": 3
   },
   "file_extension": ".py",
   "mimetype": "text/x-python",
   "name": "python",
   "nbconvert_exporter": "python",
   "pygments_lexer": "ipython3",
   "version": "3.7.3"
  }
 },
 "nbformat": 4,
 "nbformat_minor": 2
}
