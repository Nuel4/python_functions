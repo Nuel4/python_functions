{
 "cells": [
  {
   "cell_type": "code",
   "execution_count": 3,
   "metadata": {},
   "outputs": [
    {
     "name": "stdout",
     "output_type": "stream",
     "text": [
      "Super\n",
      "Super\n",
      "Staying\n"
     ]
    }
   ],
   "source": [
    "mystring =\"Super Agents Are Super Good At Staying Hidden\"\n",
    "\n",
    "for word in mystring.split():\n",
    "    first = word[0].lower()\n",
    "    if first =='s':\n",
    "        \n",
    "        print(word)"
   ]
  },
  {
   "cell_type": "code",
   "execution_count": 4,
   "metadata": {},
   "outputs": [
    {
     "name": "stdout",
     "output_type": "stream",
     "text": [
      "Super\n",
      "Super\n",
      "Staying\n"
     ]
    }
   ],
   "source": [
    "mystring =\"Super Agents Are Super Good At Staying Hidden\"\n",
    "\n",
    "for word in mystring.split():\n",
    "    first = word.lower()[0]\n",
    "    if first =='s':\n",
    "        \n",
    "        print(word)"
   ]
  },
  {
   "cell_type": "code",
   "execution_count": 5,
   "metadata": {},
   "outputs": [
    {
     "name": "stdout",
     "output_type": "stream",
     "text": [
      "Agents\n",
      "Good\n",
      "At\n",
      "Hidden\n"
     ]
    }
   ],
   "source": [
    "mystring =\"Super Agents Are Super Good At Staying Hidden\"\n",
    "\n",
    "for word in mystring.split():\n",
    "    if len(word) % 2== 0:\n",
    "        print(word)"
   ]
  },
  {
   "cell_type": "code",
   "execution_count": 6,
   "metadata": {},
   "outputs": [
    {
     "name": "stdout",
     "output_type": "stream",
     "text": [
      "S\n",
      "A\n",
      "A\n",
      "S\n",
      "G\n",
      "A\n",
      "S\n",
      "H\n"
     ]
    }
   ],
   "source": [
    "mystring =\"Super Agents Are Super Good At Staying Hidden\"\n",
    "\n",
    "for word in mystring.split():\n",
    "    first =word[0]\n",
    "    print(first)"
   ]
  },
  {
   "cell_type": "code",
   "execution_count": 11,
   "metadata": {},
   "outputs": [
    {
     "data": {
      "text/plain": [
       "['S', 'A', 'A', 'S', 'G', 'A', 'S', 'H']"
      ]
     },
     "execution_count": 11,
     "metadata": {},
     "output_type": "execute_result"
    }
   ],
   "source": [
    "\n",
    "[word[0] for word in mystring.split()]"
   ]
  },
  {
   "cell_type": "code",
   "execution_count": 12,
   "metadata": {},
   "outputs": [
    {
     "data": {
      "text/plain": [
       "['S',\n",
       " 'u',\n",
       " 'p',\n",
       " 'e',\n",
       " 'r',\n",
       " ' ',\n",
       " 'A',\n",
       " 'g',\n",
       " 'e',\n",
       " 'n',\n",
       " 't',\n",
       " 's',\n",
       " ' ',\n",
       " 'A',\n",
       " 'r',\n",
       " 'e',\n",
       " ' ',\n",
       " 'S',\n",
       " 'u',\n",
       " 'p',\n",
       " 'e',\n",
       " 'r',\n",
       " ' ',\n",
       " 'G',\n",
       " 'o',\n",
       " 'o',\n",
       " 'd',\n",
       " ' ',\n",
       " 'A',\n",
       " 't',\n",
       " ' ',\n",
       " 'S',\n",
       " 't',\n",
       " 'a',\n",
       " 'y',\n",
       " 'i',\n",
       " 'n',\n",
       " 'g',\n",
       " ' ',\n",
       " 'H',\n",
       " 'i',\n",
       " 'd',\n",
       " 'd',\n",
       " 'e',\n",
       " 'n']"
      ]
     },
     "execution_count": 12,
     "metadata": {},
     "output_type": "execute_result"
    }
   ],
   "source": [
    "mystring =\"Super Agents Are Super Good At Staying Hidden\"\n",
    "[word[0] for word in mystring]"
   ]
  },
  {
   "cell_type": "code",
   "execution_count": 15,
   "metadata": {},
   "outputs": [
    {
     "data": {
      "text/plain": [
       "['s', 'a', 'a', 's', 'g', 'a', 's', 'h']"
      ]
     },
     "execution_count": 15,
     "metadata": {},
     "output_type": "execute_result"
    }
   ],
   "source": [
    "mystring =\"Super Agents Are Super Good At Staying Hidden\"\n",
    "[word[0].lower() for word in mystring.split()]"
   ]
  },
  {
   "cell_type": "code",
   "execution_count": 17,
   "metadata": {},
   "outputs": [
    {
     "data": {
      "text/plain": [
       "[0, 2, 4, 6, 8, 10, 12, 14, 16, 18]"
      ]
     },
     "execution_count": 17,
     "metadata": {},
     "output_type": "execute_result"
    }
   ],
   "source": [
    "[n for n in range(0 ,20) if n %2==0]\n"
   ]
  },
  {
   "cell_type": "code",
   "execution_count": 21,
   "metadata": {},
   "outputs": [
    {
     "name": "stdout",
     "output_type": "stream",
     "text": [
      "[19, 19, 2, 44, 2, 46, 29, 44, 40, 16, 20]\n"
     ]
    }
   ],
   "source": [
    "import random\n",
    "x = []\n",
    "\n",
    "for i in range(0 ,11):\n",
    "    x.append(random.randint(1,50))\n",
    "print(x)    "
   ]
  },
  {
   "cell_type": "code",
   "execution_count": 24,
   "metadata": {},
   "outputs": [
    {
     "data": {
      "text/plain": [
       "[22, 17, 21, 94, 32, 3, 83, 46, 26]"
      ]
     },
     "execution_count": 24,
     "metadata": {},
     "output_type": "execute_result"
    }
   ],
   "source": [
    "[random.randint(1,100) for x in range(1,10)]"
   ]
  },
  {
   "cell_type": "code",
   "execution_count": 29,
   "metadata": {},
   "outputs": [
    {
     "name": "stdout",
     "output_type": "stream",
     "text": [
      "enter a number:3\n",
      "enter a number:1\n",
      "enter a number:5\n",
      "enter a number:2\n",
      "this is a correct number \n"
     ]
    }
   ],
   "source": [
    "result  = 3\n",
    "while result % 2 !=0:\n",
    "    \n",
    "    num = int(input('enter a number:'))\n",
    "    if num % 2 !=0:\n",
    "        result =3\n",
    "    else:\n",
    "        print('this is a correct number ')\n",
    "        result =2"
   ]
  },
  {
   "cell_type": "code",
   "execution_count": 46,
   "metadata": {},
   "outputs": [
    {
     "data": {
      "text/plain": [
       "False"
      ]
     },
     "execution_count": 46,
     "metadata": {},
     "output_type": "execute_result"
    }
   ],
   "source": [
    "def check(num):\n",
    "    for i in  range(len(num)):\n",
    "        if num[i] == 1 and num[i+1] ==2 and num[i+2] == 3:\n",
    "\n",
    "            return True     \n",
    "    else:\n",
    "        return False\n",
    "    \n",
    "check([2,4,5,1,2,53,6])    "
   ]
  },
  {
   "cell_type": "code",
   "execution_count": 48,
   "metadata": {},
   "outputs": [
    {
     "data": {
      "text/plain": [
       "True"
      ]
     },
     "execution_count": 48,
     "metadata": {},
     "output_type": "execute_result"
    }
   ],
   "source": [
    "check([1,2,3,6,8])"
   ]
  },
  {
   "cell_type": "code",
   "execution_count": 51,
   "metadata": {},
   "outputs": [
    {
     "name": "stdout",
     "output_type": "stream",
     "text": [
      "4\n"
     ]
    }
   ],
   "source": [
    "def mystring(s1,s2):\n",
    "    s3 = len(s1) -len(s2)\n",
    "    print(s3)\n",
    "mystring('emmanuel' ,'come')    "
   ]
  },
  {
   "cell_type": "code",
   "execution_count": 55,
   "metadata": {},
   "outputs": [
    {
     "data": {
      "text/plain": [
       "3"
      ]
     },
     "execution_count": 55,
     "metadata": {},
     "output_type": "execute_result"
    }
   ],
   "source": [
    "def mystring(s1,s2):\n",
    "    len(s1) -len(s2)\n",
    "    return abs(len(s1) -len(s2))\n",
    "mystring('laptop' ,'top')    "
   ]
  },
  {
   "cell_type": "code",
   "execution_count": 57,
   "metadata": {},
   "outputs": [
    {
     "data": {
      "text/plain": [
       "22"
      ]
     },
     "execution_count": 57,
     "metadata": {},
     "output_type": "execute_result"
    }
   ],
   "source": [
    "def sumcheck(mlist):\n",
    "    l =len(mlist)\n",
    "    if l %2 ==0:\n",
    "        return sum(mlist)\n",
    "    else:\n",
    "        return mlist\n",
    "    \n",
    "sumcheck([3,5,6,8])    "
   ]
  },
  {
   "cell_type": "code",
   "execution_count": 58,
   "metadata": {},
   "outputs": [
    {
     "data": {
      "text/plain": [
       "[2, 4, 5, 1, 3]"
      ]
     },
     "execution_count": 58,
     "metadata": {},
     "output_type": "execute_result"
    }
   ],
   "source": [
    "sumcheck([2,4,5,1,3])"
   ]
  },
  {
   "cell_type": "code",
   "execution_count": null,
   "metadata": {},
   "outputs": [],
   "source": []
  }
 ],
 "metadata": {
  "kernelspec": {
   "display_name": "Python 3",
   "language": "python",
   "name": "python3"
  },
  "language_info": {
   "codemirror_mode": {
    "name": "ipython",
    "version": 3
   },
   "file_extension": ".py",
   "mimetype": "text/x-python",
   "name": "python",
   "nbconvert_exporter": "python",
   "pygments_lexer": "ipython3",
   "version": "3.7.3"
  }
 },
 "nbformat": 4,
 "nbformat_minor": 2
}
